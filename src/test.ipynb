{
 "cells": [
  {
   "cell_type": "code",
   "id": "initial_id",
   "metadata": {
    "collapsed": true,
    "ExecuteTime": {
     "end_time": "2024-10-19T02:17:34.987155Z",
     "start_time": "2024-10-19T02:17:34.712596Z"
    }
   },
   "source": "import pandas as pd",
   "outputs": [],
   "execution_count": 1
  },
  {
   "metadata": {},
   "cell_type": "code",
   "outputs": [],
   "execution_count": null,
   "source": [
    "import re\n",
    "\n",
    "def parse_lean_code(formatted_code):\n",
    "    match = re.search(r'```lean(.*?)```', formatted_code, re.DOTALL)\n",
    "    if match:\n",
    "        lean_code = match.group(1).strip()  # Extract the Lean code and strip any surrounding whitespace\n",
    "        return lean_code\n",
    "    else:\n",
    "        raise ValueError(\"No valid Lean 4 code block found.\")\n",
    "   \n",
    "def get_prompt(statement, solution_step, lean_codes):\n",
    "    if lean_codes==\"\":\n",
    "        return f\"\"\"\n",
    "        You are a Lean 4 expert and your task is to formalize mathematical proofs step by step. You will be provided with a problem statement, conditions, and a natural language solution for the first step. Your job is to formalize this first solution step into Lean 4 code, using appropriate axioms, theorems, and Lean tactics.\n",
    "        \n",
    "        Instructions:\n",
    "        1. **Analyze the problem statement** and extract the relevant assumptions.\n",
    "        2. **Translate the first step** of the solution into formal Lean 4 code.\n",
    "        3. Ensure that the proof compiles correctly in Lean 4.\n",
    "        4. Output the Lean 4 code enclosed in the following format for easy parsing:\n",
    "        ```lean\n",
    "        <Lean 4 code>\n",
    "        ```\n",
    "        \n",
    "        Input:\n",
    "        - {statement}\n",
    "        - Solution: {solution_step}\n",
    "        \"\"\"\n",
    "    else:\n",
    "        return f\"\"\"\n",
    "        You are a Lean 4 expert and your task is to formalize mathematical proofs step by step. You will be provided with a problem statement, previous formalized proofs, and a natural language solution for the current step. Your job is to reuse the previous Lean proof by treating it as a hypothesis, and formalize the current step into Lean 4 code, using appropriate axioms, theorems, and Lean tactics.\n",
    "        \n",
    "        Instructions:\n",
    "        1. **Reuse the previous Lean proof** as a hypothesis in the new proof. Treat the previous theorem as already verified and use it in the current step.\n",
    "        2. **Translate the new solution step** into formal Lean 4 code, ensuring it builds on the hypothesis from the previous proof.\n",
    "        3. Ensure that the proof compiles correctly in Lean 4.\n",
    "        4. Output the Lean 4 code enclosed in the following format for easy parsing:\n",
    "        ```lean\n",
    "        <Lean 4 code>\n",
    "        ```\n",
    "        \n",
    "        ### Specific Instructions for Reusing the Previous Proof:\n",
    "        - Include the previous proof as a hypothesis. For example, if the previous theorem was `f_of_one_is_one`, reuse it as a hypothesis like:\n",
    "        ```lean\n",
    "        have h_f1 := f_of_one_is_one f h1 h2 h3\n",
    "        ```\n",
    "                \n",
    "        Input:\n",
    "        - {statement}\n",
    "        - Next Solution Step: {solution_step}\n",
    "        - Previous Formal Steps:\\n{lean_codes}\n",
    "        \"\"\""
   ],
   "id": "db113bcf25f04e4"
  },
  {
   "metadata": {
    "ExecuteTime": {
     "end_time": "2024-10-19T02:17:48.272810Z",
     "start_time": "2024-10-19T02:17:48.269206Z"
    }
   },
   "cell_type": "code",
   "source": "problem_id = 0",
   "id": "4dfd26841a3c9179",
   "outputs": [],
   "execution_count": 2
  },
  {
   "metadata": {
    "ExecuteTime": {
     "end_time": "2024-10-19T03:23:02.045604Z",
     "start_time": "2024-10-19T03:23:02.042208Z"
    }
   },
   "cell_type": "code",
   "source": [
    "df =pd.read_pickle(f\"../data/problem_{problem_id}.pkl\")\n",
    "lean_codes = \"\"\n",
    "for i in range(1, len(df) + 1):\n",
    "    statement = df[df[\"num_steps\"] == i].statement.iat[0]\n",
    "    solution_step = df[df[\"num_steps\"] == i].solution_steps.iat[0][-1]\n",
    "    retry = 0\n",
    "    lean_code = \"\"\n",
    "    valid = False\n",
    "    while not valid and retry < 10:\n",
    "        try:\n",
    "            prompt = get_prompt(statement, solution_step, lean_codes)\n",
    "            output = get_response(prompt)\n",
    "            lean_code = parse_lean_code(output)\n",
    "            lean_codes += \"\\n\\n\" + lean_code\n",
    "            write_lean_file(lean_codes, problem_id, i)\n",
    "            valid = verify_lean_code(problem_id, i)\n",
    "        except Exception as e:\n",
    "            print(f\"error: {e}\")\n",
    "        retry += 1\n",
    "    if not valid:\n",
    "        break"
   ],
   "id": "d1809596fbec3c51",
   "outputs": [
    {
     "name": "stdout",
     "output_type": "stream",
     "text": [
      "2\n",
      "3\n",
      "4\n",
      "5\n",
      "6\n",
      "7\n"
     ]
    }
   ],
   "execution_count": 14
  },
  {
   "metadata": {},
   "cell_type": "code",
   "outputs": [],
   "execution_count": null,
   "source": "",
   "id": "8888b01690995668"
  }
 ],
 "metadata": {
  "kernelspec": {
   "display_name": "Python 3",
   "language": "python",
   "name": "python3"
  },
  "language_info": {
   "codemirror_mode": {
    "name": "ipython",
    "version": 2
   },
   "file_extension": ".py",
   "mimetype": "text/x-python",
   "name": "python",
   "nbconvert_exporter": "python",
   "pygments_lexer": "ipython2",
   "version": "2.7.6"
  }
 },
 "nbformat": 4,
 "nbformat_minor": 5
}
